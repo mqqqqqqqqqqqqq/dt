{
 "cells": [
  {
   "cell_type": "code",
   "execution_count": 2,
   "id": "be1ecf3c",
   "metadata": {},
   "outputs": [],
   "source": [
    "import csv"
   ]
  },
  {
   "cell_type": "code",
   "execution_count": 12,
   "id": "1380ebb5",
   "metadata": {},
   "outputs": [],
   "source": []
  },
  {
   "cell_type": "code",
   "execution_count": 13,
   "id": "94d69009",
   "metadata": {},
   "outputs": [],
   "source": []
  },
  {
   "cell_type": "code",
   "execution_count": null,
   "id": "25ea282f",
   "metadata": {},
   "outputs": [],
   "source": []
  },
  {
   "cell_type": "code",
   "execution_count": 1,
   "id": "53b9a1b2",
   "metadata": {},
   "outputs": [],
   "source": [
    "import os"
   ]
  },
  {
   "cell_type": "code",
   "execution_count": 3,
   "id": "20682f36",
   "metadata": {},
   "outputs": [],
   "source": [
    "with open(r\"example.txt\", \"r\") as input:\n",
    "    with open(\"bb.txt\", \"w\") as output:\n",
    "        for line in input:\n",
    "            if line == '\\n':\n",
    "                line = line.strip(\"\\n\")\n",
    "            if \"State\" not in line.strip(\"\\n\"):  \n",
    "                output.write(line)\n",
    "os.replace('bb.txt', 'aa.txt')"
   ]
  },
  {
   "cell_type": "code",
   "execution_count": 20,
   "id": "5d487cf8",
   "metadata": {},
   "outputs": [],
   "source": [
    "# 读取文件并分割每行的字符串\n",
    "with open('aa.txt', 'r') as input:\n",
    "    with open(\"bb.txt\", \"w\") as output:\n",
    "        for line in input:\n",
    "            lines = ','.join(line.split(':',1))\n",
    "            output.write(lines)"
   ]
  },
  {
   "cell_type": "code",
   "execution_count": 44,
   "id": "1438c1ea",
   "metadata": {},
   "outputs": [],
   "source": [
    "no_deletes = [0,1,2,3,4,5,6,7,8,9,10,11,12,13,14,15,16,17,18,19,20,21,22]\n",
    "# 读取文件\n",
    "with open('bb.txt', 'r') as input:\n",
    "    m = input.readlines()\n",
    "    with open('cc.txt', 'w') as output:\n",
    "        # 删除每一行的第一个字符串\n",
    "        for i,line in enumerate(m):\n",
    "            if i in no_deletes:\n",
    "                lines = line\n",
    "            else:\n",
    "                lines = line.split(',', 1)[-1]\n",
    "            # 将修改后的内容写回文件\n",
    "            output.write(lines)\n"
   ]
  },
  {
   "cell_type": "code",
   "execution_count": 3,
   "id": "640d44ed",
   "metadata": {},
   "outputs": [],
   "source": [
    "# 读取文件\n",
    "with open('cc.txt', 'r') as input:\n",
    "    lines = input.readlines()\n",
    "    length = len(lines)\n",
    "    m = 23\n",
    "    # 将修改后的内容写回文件\n",
    "    with open('dd.txt', 'w') as output:\n",
    "        # 将第n行的内容添加到第n-23行的结尾\n",
    "        i = 0\n",
    "        while i < m:\n",
    "            j = i + 23\n",
    "            while j < length:\n",
    "                if i == 22:\n",
    "                    lines[i] = lines[i].strip() +\",\" + lines[j] + '\\n'\n",
    "                else:\n",
    "                    lines[i] = lines[i].strip() +\",\" + lines[j]\n",
    "                j = j + 23\n",
    "            i = i + 1\n",
    "        output.write(''.join(lines))"
   ]
  },
  {
   "cell_type": "code",
   "execution_count": 4,
   "id": "2e244e1e",
   "metadata": {},
   "outputs": [],
   "source": [
    "with open('dd.txt', 'r') as input:\n",
    "    # 读取前23行\n",
    "    lines = input.readlines()[:23]\n",
    "    with open('ee.txt', 'w') as output:\n",
    "        # 将前3行写入新文件\n",
    "        output.write(''.join(lines))\n"
   ]
  },
  {
   "cell_type": "code",
   "execution_count": 21,
   "id": "074a642d",
   "metadata": {},
   "outputs": [],
   "source": [
    "with open('ee.txt', 'r') as input:\n",
    "    with open('ff.txt', 'w') as output:\n",
    "        for line in input:\n",
    "            lines = ' '.join(line.split(','))\n",
    "            output.write(lines)"
   ]
  },
  {
   "cell_type": "code",
   "execution_count": 2,
   "id": "99e721d1",
   "metadata": {},
   "outputs": [],
   "source": [
    "import numpy as np\n",
    "import pandas as pd\n",
    "\n",
    "text = []\n",
    "fileHandler = open(\"ff.txt\",  \"r\")\n",
    "while True:\n",
    "    line  =  fileHandler.readline()\n",
    "    if  not  line  :\n",
    "        break\n",
    "    line = line.strip().split(' ')\n",
    "    text.append(line)\n",
    "fileHandler.close()\n",
    "df = pd.DataFrame(text)\n",
    "df.to_csv(\"ff.csv\", index=False)"
   ]
  },
  {
   "cell_type": "code",
   "execution_count": 2,
   "id": "5882590f",
   "metadata": {},
   "outputs": [],
   "source": [
    "import csv\n",
    "\n",
    "# 打开 CSV 文件，并读取所有行\n",
    "with open('ff.csv', 'r') as file:\n",
    "    reader = csv.reader(file)\n",
    "    rows = list(reader)\n",
    "\n",
    "# 删除第一行\n",
    "del rows[0]\n",
    "\n",
    "# 将更新后的数据写回到 CSV 文件中\n",
    "with open('gg.csv', 'w', newline='') as file:\n",
    "    writer = csv.writer(file)\n",
    "    writer.writerows(rows)\n"
   ]
  },
  {
   "cell_type": "code",
   "execution_count": 3,
   "id": "d31b4cc1",
   "metadata": {},
   "outputs": [],
   "source": [
    "import csv\n",
    "\n",
    "with open('gg.csv', 'r', encoding='utf-8') as csv_file:\n",
    "    table = list(csv.reader(csv_file))\n",
    "    transposed_table = list(zip(*table))\n",
    "    with open('hh.csv', 'w', encoding='utf-8', newline='') as to_csv_file:\n",
    "        writer = csv.writer(to_csv_file)\n",
    "        writer.writerows(transposed_table)"
   ]
  },
  {
   "cell_type": "code",
   "execution_count": null,
   "id": "cd340dc6",
   "metadata": {},
   "outputs": [],
   "source": []
  }
 ],
 "metadata": {
  "kernelspec": {
   "display_name": "Python 3 (ipykernel)",
   "language": "python",
   "name": "python3"
  },
  "language_info": {
   "codemirror_mode": {
    "name": "ipython",
    "version": 3
   },
   "file_extension": ".py",
   "mimetype": "text/x-python",
   "name": "python",
   "nbconvert_exporter": "python",
   "pygments_lexer": "ipython3",
   "version": "3.9.13"
  }
 },
 "nbformat": 4,
 "nbformat_minor": 5
}
